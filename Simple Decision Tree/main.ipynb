{
 "cells": [
  {
   "cell_type": "code",
   "execution_count": 1,
   "metadata": {},
   "outputs": [
    {
     "name": "stdout",
     "output_type": "stream",
     "text": [
      "Accuracy : 1.00\n"
     ]
    }
   ],
   "source": [
    "\n",
    "from sklearn.datasets import load_iris\n",
    "from sklearn.tree import DecisionTreeClassifier\n",
    "from sklearn.model_selection import train_test_split\n",
    "from sklearn.metrics import accuracy_score\n",
    "\n",
    "#oad the data\n",
    "data = load_iris()\n",
    "X = data.data\n",
    "y = data.target\n",
    "\n",
    "#split the data\n",
    "X_train, X_test, y_train, y_test = train_test_split(X, y, test_size=0.3, random_state=42)\n",
    "\n",
    "#train the decision tree\n",
    "model = DecisionTreeClassifier()\n",
    "model.fit(X_train, y_train)\n",
    "\n",
    "y_pred = model.predict(X_test)\n",
    "\n",
    "accuracy = accuracy_score(y_test, y_pred)\n",
    "print(f\"Accuracy : {accuracy:.2f}\")\n"
   ]
  },
  {
   "cell_type": "code",
   "execution_count": 17,
   "metadata": {},
   "outputs": [
    {
     "data": {
      "text/plain": [
       "array([1])"
      ]
     },
     "execution_count": 17,
     "metadata": {},
     "output_type": "execute_result"
    }
   ],
   "source": [
    "model.predict(X_test[[0]])"
   ]
  },
  {
   "cell_type": "code",
   "execution_count": 15,
   "metadata": {},
   "outputs": [
    {
     "name": "stdout",
     "output_type": "stream",
     "text": [
      "--------------------------------------------------\n",
      "Hello! I am the Iris Classifier\n",
      "--------------------------------------------------\n",
      "[[6.1, 2.8, 4.7, 1.2]] is Versicolor\n"
     ]
    }
   ],
   "source": [
    "print(\"-\"*50)\n",
    "print(\"Hello! I am the Iris Classifier\")\n",
    "print(\"-\"*50)\n",
    "x1 = float(input(\"Enter the length of sepal (cm): \"))\n",
    "x2 = float(input(\"Enter the width of sepal (cm): \"))\n",
    "x3 = float(input(\"Enter the length of petal (cm): \"))\n",
    "x4 = float(input(\"Enter the width of petal (cm): \"))\n",
    "\n",
    "xx = [[x1, x2, x3, x4]]\n",
    "y = model.predict(xx)\n",
    "if y == 0:\n",
    "    print(f\"{xx} is Setosa\")\n",
    "elif y ==1:\n",
    "    print(f\"{xx} is Versicolor\")\n",
    "else:\n",
    "    print(f\"{xx} is virginica\")        \n",
    "    \n",
    "\n",
    "\n"
   ]
  }
 ],
 "metadata": {
  "kernelspec": {
   "display_name": "Python 3",
   "language": "python",
   "name": "python3"
  },
  "language_info": {
   "codemirror_mode": {
    "name": "ipython",
    "version": 3
   },
   "file_extension": ".py",
   "mimetype": "text/x-python",
   "name": "python",
   "nbconvert_exporter": "python",
   "pygments_lexer": "ipython3",
   "version": "3.12.4"
  }
 },
 "nbformat": 4,
 "nbformat_minor": 2
}
