{
 "cells": [
  {
   "cell_type": "code",
   "execution_count": 1,
   "metadata": {},
   "outputs": [],
   "source": [
    "import joblib\n",
    "model = joblib.load('iris_classifier.joblib')\n"
   ]
  },
  {
   "cell_type": "code",
   "execution_count": 2,
   "metadata": {},
   "outputs": [
    {
     "name": "stdout",
     "output_type": "stream",
     "text": [
      "--------------------------------------------------\n",
      "Hello! I am the Iris Classifier\n",
      "--------------------------------------------------\n"
     ]
    }
   ],
   "source": [
    "print(\"-\"*50)\n",
    "print(\"Hello! I am the Iris Classifier\")\n",
    "print(\"-\"*50)\n",
    "x1 = float(input(\"Enter the length of sepal (cm): \"))\n",
    "x2 = float(input(\"Enter the width of sepal (cm): \"))\n",
    "x3 = float(input(\"Enter the length of petal (cm): \"))\n",
    "x4 = float(input(\"Enter the width of petal (cm): \"))\n",
    "\n",
    "xx = [[x1, x2, x3, x4]]\n",
    "y = model.predict(xx)\n",
    "if y == 0:\n",
    "    print(f\"{xx} is Setosa\")\n",
    "elif y ==1:\n",
    "    print(f\"{xx} is Versicolor\")\n",
    "else:\n",
    "    print(f\"{xx} is virginica\")        \n",
    "    "
   ]
  }
 ],
 "metadata": {
  "kernelspec": {
   "display_name": "Python 3",
   "language": "python",
   "name": "python3"
  },
  "language_info": {
   "codemirror_mode": {
    "name": "ipython",
    "version": 3
   },
   "file_extension": ".py",
   "mimetype": "text/x-python",
   "name": "python",
   "nbconvert_exporter": "python",
   "pygments_lexer": "ipython3",
   "version": "3.12.4"
  }
 },
 "nbformat": 4,
 "nbformat_minor": 2
}
