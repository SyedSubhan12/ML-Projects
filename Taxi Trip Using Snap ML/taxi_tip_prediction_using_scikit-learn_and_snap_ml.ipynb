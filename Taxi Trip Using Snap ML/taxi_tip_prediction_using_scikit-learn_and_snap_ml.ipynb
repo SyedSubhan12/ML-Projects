{
 "cells": [
  {
   "cell_type": "markdown",
   "metadata": {},
   "source": [
    "<p style=\"text-align:center\">\n",
    "    <a href=\"https://skills.network/?utm_medium=Exinfluencer&utm_source=Exinfluencer&utm_content=000026UJ&utm_term=10006555&utm_id=NA-SkillsNetwork-Channel-SkillsNetworkGuidedProjectsIBMGPXX0AXIEN90-2022-01-01\" target=\"_blank\">\n",
    "    <img src=\"https://cf-courses-data.s3.us.cloud-object-storage.appdomain.cloud/assets/logos/SN_web_lightmode.png\" width=\"300\" alt=\"Skills Network Logo\"  />\n",
    "    </a>\n",
    "</p>\n"
   ]
  },
  {
   "cell_type": "markdown",
   "metadata": {
    "tags": []
   },
   "source": [
    "# **Taxi Tip Prediction using Scikit-Learn and Snap ML**\n"
   ]
  },
  {
   "cell_type": "markdown",
   "metadata": {},
   "source": [
    "Estimated time needed: **30** minutes\n"
   ]
  },
  {
   "cell_type": "markdown",
   "metadata": {},
   "source": [
    "**Snap ML** is a high-performance IBM library for ML modeling. It provides highly-efficient CPU/GPU implementations of linear models and tree-based models. Snap ML not only accelerates ML algorithms through system awareness, but also offers novel ML algorithms with best-in-class accuracy. For more information, please visit [here](https://ibm.biz/BdPfdW?utm_medium=Exinfluencer&utm_source=Exinfluencer&utm_content=000026UJ&utm_term=10006555&utm_id=NA-SkillsNetwork-Channel-SkillsNetworkGuidedProjectsIBMGPXX0AXIEN90-2022-01-01). \n",
    "\n",
    "In this guided project, you will practice the Scikit-Learn Python interface, as well as the Python API offered by the Snap ML library. You will consolidate your machine learning (ML) modeling skills by using a popular regression model: **Decision Tree**. You will use a real world dataset to train such a model. The dataset includes information about taxi tips and was collected and provided to the NYC Taxi and Limousine Commission (TLC) by technology providers authorized under the Taxicab & Livery Passenger Enhancement Programs (TPEP/LPEP). You will use the trained model to predict the amount of tips paid. \n",
    "\n",
    "<img src=\"https://cf-courses-data.s3.us.cloud-object-storage.appdomain.cloud/IBM-GPXX0AXIEN/images/light-traffic-street-night-photography-glass-734324-pxhere.com.jpg\" width=\"65%\">\n"
   ]
  },
  {
   "cell_type": "markdown",
   "metadata": {},
   "source": [
    "## Table of Contents\n",
    "\n",
    "<ol>\n",
    "    <li><a href=\"#Objectives\">Objectives</a></li>\n",
    "    <li><a href=\"#Setup\">Setup</a>\n",
    "        <ol>\n",
    "            <li><a href=\"https://#Installing-Required-Libraries\">Installing Required Libraries</a></li>\n",
    "            <li><a href=\"https://#Importing-Required-Libraries\">Importing Required Libraries</a></li>\n",
    "            <li><a href=\"https://#Defining-Helper-Functions\">Defining HelperFunctions<a></li>        \n",
    "        <ol>\n",
    "    </li>    \n",
    "    <li><a href=\"#introduction\">Introduction</a></li>\n",
    "    <li><a href=\"#Downloading the Dataset\">Downloading the Dataset</a></li>\n",
    "    <li><a href=\"#dataset_analysis\">Dataset Analysis</a></li>\n",
    "    <li><a href=\"#dataset_preprocessing\">Data \n",
    "        Preprocessing</a></li>\n",
    "    <li><a href=\"#dataset_split\">Dataset Train/Test Split</a></li>\n",
    "    <li><a href=\"#dt_sklearn\">Build a Decision Tree Regressor model with Scikit-Learn</a></li>\n",
    "    <li><a href=\"#dt_snap\">Build a Decision Tree Regressor model with Snap ML</a></li>\n",
    "    <li><a href=\"#dt_sklearn_snap\">Evaluate the Scikit-Learn and Snap ML Decision Tree Regressors</a></li>\n",
    "</ol>\n"
   ]
  },
  {
   "cell_type": "markdown",
   "metadata": {},
   "source": [
    "## Objectives\n",
    "\n",
    "After completing this guided project you will be able to:\n",
    "\n",
    "* Perform basic data preprocessing using Scikit-Learn\n",
    "* Model a regression task using the Scikit-Learn and Snap ML Python APIs\n",
    "* Train a Decision Tree Regressor model using Scikit-Learn and Snap ML\n",
    "* Run inference and assess the quality of the trained models\n"
   ]
  },
  {
   "cell_type": "markdown",
   "metadata": {},
   "source": [
    "----\n"
   ]
  },
  {
   "cell_type": "markdown",
   "metadata": {},
   "source": [
    "## Setup\n"
   ]
  },
  {
   "cell_type": "markdown",
   "metadata": {},
   "source": [
    "For this guided project, we will be using the following libraries:\n",
    "\n",
    "*   [`pandas`](https://pandas.pydata.org/?utm_medium=Exinfluencer&utm_source=Exinfluencer&utm_content=000026UJ&utm_term=10006555&utm_id=NA-SkillsNetwork-Channel-SkillsNetworkCoursesIBMML0187ENSkillsNetwork31430127-2021-01-01) for managing the data.\n",
    "*   [`numpy`](https://numpy.org/?utm_medium=Exinfluencer&utm_source=Exinfluencer&utm_content=000026UJ&utm_term=10006555&utm_id=NA-SkillsNetwork-Channel-SkillsNetworkCoursesIBMML0187ENSkillsNetwork31430127-2021-01-01) for mathematical operations.\n",
    "*   [`sklearn`](https://scikit-learn.org/stable/?utm_medium=Exinfluencer&utm_source=Exinfluencer&utm_content=000026UJ&utm_term=10006555&utm_id=NA-SkillsNetwork-Channel-SkillsNetworkCoursesIBMML0187ENSkillsNetwork31430127-2021-01-01) for machine learning and machine-learning-pipeline related functions.\n",
    "*   [`seaborn`](https://seaborn.pydata.org/?utm_medium=Exinfluencer&utm_source=Exinfluencer&utm_content=000026UJ&utm_term=10006555&utm_id=NA-SkillsNetwork-Channel-SkillsNetworkCoursesIBMML0187ENSkillsNetwork31430127-2021-01-01) for visualizing the data.\n",
    "*   [`matplotlib`](https://matplotlib.org/?utm_medium=Exinfluencer&utm_source=Exinfluencer&utm_content=000026UJ&utm_term=10006555&utm_id=NA-SkillsNetwork-Channel-SkillsNetworkCoursesIBMML0187ENSkillsNetwork31430127-2021-01-01) for additional plotting tools.\n"
   ]
  },
  {
   "cell_type": "markdown",
   "metadata": {},
   "source": [
    "### Installing Required Libraries\n",
    "\n",
    "The following required libraries are pre-installed in the Skills Network Labs environment. However, if you run this notebook commands in a different Jupyter environment (e.g. Watson Studio or Anaconda), you will need to install these libraries by removing the `#` sign before `!mamba` in the code cell below.\n"
   ]
  },
  {
   "cell_type": "code",
   "execution_count": 5,
   "metadata": {},
   "outputs": [],
   "source": [
    "# All Libraries required for this lab are listed below. The libraries pre-installed on Skills Network Labs are commented.\n",
    "# !mamba install -qy pandas==1.3.4 numpy==1.21.4 seaborn==0.9.0 matplotlib==3.5.0 scikit-learn==0.20.1\n",
    "# Note: If your environment doesn't support \"!mamba install\", use \"!pip install\""
   ]
  },
  {
   "cell_type": "markdown",
   "metadata": {},
   "source": [
    "The following required libraries are __not__ pre-installed in the Skills Network Labs environment. __You will need to run the following cell__ to install them:\n"
   ]
  },
  {
   "cell_type": "code",
   "execution_count": 6,
   "metadata": {},
   "outputs": [
    {
     "name": "stdout",
     "output_type": "stream",
     "text": [
      "Requirement already satisfied: snapml in c:\\users\\dell\\anaconda3\\envs\\cuda\\lib\\site-packages (1.15.6)\n",
      "Requirement already satisfied: scikit-learn in c:\\users\\dell\\anaconda3\\envs\\cuda\\lib\\site-packages (from snapml) (1.5.1)\n",
      "Requirement already satisfied: scipy in c:\\users\\dell\\anaconda3\\envs\\cuda\\lib\\site-packages (from snapml) (1.13.1)\n",
      "Requirement already satisfied: numpy>=1.18.5 in c:\\users\\dell\\anaconda3\\envs\\cuda\\lib\\site-packages (from snapml) (1.24.4)\n",
      "Requirement already satisfied: joblib>=1.2.0 in c:\\users\\dell\\anaconda3\\envs\\cuda\\lib\\site-packages (from scikit-learn->snapml) (1.4.2)\n",
      "Requirement already satisfied: threadpoolctl>=3.1.0 in c:\\users\\dell\\anaconda3\\envs\\cuda\\lib\\site-packages (from scikit-learn->snapml) (3.5.0)\n"
     ]
    },
    {
     "name": "stderr",
     "output_type": "stream",
     "text": [
      "\n",
      "[notice] A new release of pip is available: 24.1.2 -> 24.2\n",
      "[notice] To update, run: python.exe -m pip install --upgrade pip\n"
     ]
    }
   ],
   "source": [
    "!pip install snapml"
   ]
  },
  {
   "cell_type": "markdown",
   "metadata": {},
   "source": [
    "### Importing Required Libraries\n",
    "\n",
    "_We recommend you import all required libraries in one place (here):_\n"
   ]
  },
  {
   "cell_type": "code",
   "execution_count": 7,
   "metadata": {
    "tags": []
   },
   "outputs": [],
   "source": [
    "from __future__ import print_function\n",
    "from tqdm import tqdm\n",
    "\n",
    "# You can also use this section to suppress warnings generated by your code:\n",
    "def warn(*args, **kwargs):\n",
    "    pass\n",
    "import warnings\n",
    "warnings.warn = warn\n",
    "warnings.filterwarnings('ignore')\n",
    "\n",
    "import numpy as np\n",
    "import pandas as pd\n",
    "import seaborn as sns\n",
    "import matplotlib.pyplot as plt\n",
    "%matplotlib inline\n",
    "from sklearn.model_selection import train_test_split\n",
    "from sklearn.preprocessing import Normalizer, StandardScaler, MinMaxScaler\n",
    "from sklearn.utils.class_weight import compute_sample_weight\n",
    "from sklearn.metrics import mean_squared_error\n",
    "import time\n",
    "import warnings\n",
    "import gc, sys\n",
    "\n",
    "sns.set_context('notebook')\n",
    "sns.set_style('white')"
   ]
  },
  {
   "cell_type": "markdown",
   "metadata": {},
   "source": [
    "### Defining Helper Functions\n"
   ]
  },
  {
   "cell_type": "code",
   "execution_count": 8,
   "metadata": {
    "tags": []
   },
   "outputs": [],
   "source": [
    "def memory_optimize(df):\n",
    "    \n",
    "    \"\"\"\n",
    "    optimize data types to reduce memory usage\n",
    "    \n",
    "    \"\"\"\n",
    "    for col in df.columns:\n",
    "        if df[col].dtype == 'float':\n",
    "            col_min = df[col].min()\n",
    "            col_max = df[col].max()\n",
    "\n",
    "            if col_min > np.finfo(np.float32).min and col_max < np.finfo(np.float32).max:\n",
    "                df[col] = df[col].astype(np.float32)\n",
    "\n",
    "        elif df[col].dtype == 'int':\n",
    "            col_min = df[col].min()\n",
    "            col_max = df[col].max()\n",
    "\n",
    "            if col_max < np.iinfo(np.int8).max and col_min > np.iinfo(np.int8).min:\n",
    "                df[col] = df[col].astype(np.int8)\n",
    "            elif col_max < np.iinfo(np.int16).max and col_min > np.iinfo(np.int16).min:\n",
    "                df[col] = df[col].astype(np.int16)\n",
    "            elif col_max < np.iinfo(np.int32).max and col_min > np.iinfo(np.int32).min:\n",
    "                df[col] = df[col].astype(np.int32)\n",
    "    \n",
    "    return df"
   ]
  },
  {
   "cell_type": "markdown",
   "metadata": {},
   "source": [
    "## Introduction\n",
    "\n",
    "The dataset used in this exercise session is publicly available [here](https://www1.nyc.gov/site/tlc/about/tlc-trip-record-data.page?utm_medium=Exinfluencer&utm_source=Exinfluencer&utm_content=000026UJ&utm_term=10006555&utm_id=NA-SkillsNetwork-Channel-SkillsNetworkGuidedProjectsIBMGPXX0AXIEN90-2022-01-01) (all rights reserved by Taxi & Limousine Commission(TLC), City of New York). The TLC Yellow Taxi Trip Records of June, 2019 are used in this notebook. **The prediction of the tip amount can be modeled as a regression problem**. To train the model you can use part of the input dataset and the remaining data can be used to assess the quality of the trained model. First, let's download the dataset.\n"
   ]
  },
  {
   "cell_type": "markdown",
   "metadata": {},
   "source": [
    "## Downloading the Dataset\n"
   ]
  },
  {
   "cell_type": "markdown",
   "metadata": {},
   "source": [
    "There were originally 7M observations in the dataset. Ideally you will use the full dataset for this exercise. However, to avoid running into out of memory issues due to the data size, we will reduce the size by taking a sample of the first 1M observations. We will only work with the 1M observations for the rest of this project.\n"
   ]
  },
  {
   "cell_type": "code",
   "execution_count": 9,
   "metadata": {
    "tags": []
   },
   "outputs": [],
   "source": [
    "# import skillsnetwork\n",
    "\n",
    "# await skillsnetwork.prepare(\"https://cf-courses-data.s3.us.cloud-object-storage.appdomain.cloud/IBM-GPXX0AXIEN/data/yellow_tripdata_2019-06_1M.tgz\", overwrite = True)"
   ]
  },
  {
   "cell_type": "markdown",
   "metadata": {},
   "source": [
    "Use the prepare function from the SKills Network library to download the raw data file from IBM Cloud Storage.\n"
   ]
  },
  {
   "cell_type": "markdown",
   "metadata": {},
   "source": [
    "## Dataset Analysis\n"
   ]
  },
  {
   "cell_type": "markdown",
   "metadata": {},
   "source": [
    "In this section you will read the dataset in a Pandas dataframe and visualize its content. You will also look at some summary statistics.\n",
    "\n",
    "Note: A Pandas dataframe is a two-dimensional, size-mutable, potentially heterogeneous tabular data structure. For more information: https://pandas.pydata.org/docs/reference/api/pandas.DataFrame.html.\n"
   ]
  },
  {
   "cell_type": "markdown",
   "metadata": {},
   "source": [
    "Read the input data:\n"
   ]
  },
  {
   "cell_type": "code",
   "execution_count": 10,
   "metadata": {
    "tags": []
   },
   "outputs": [
    {
     "name": "stdout",
     "output_type": "stream",
     "text": [
      "There are 1000000 observations in the dataset.\n",
      "There are 19 variables in the dataset.\n"
     ]
    }
   ],
   "source": [
    "raw_data = pd.read_csv('yellow_tripdata_2019-06_1M.csv')\n",
    "print(\"There are \" + str(len(raw_data)) + \" observations in the dataset.\")\n",
    "print(\"There are \" + str(len(raw_data.columns)) + \" variables in the dataset.\")"
   ]
  },
  {
   "cell_type": "markdown",
   "metadata": {},
   "source": [
    "Display first rows in the dataset:\n"
   ]
  },
  {
   "cell_type": "code",
   "execution_count": 11,
   "metadata": {
    "tags": []
   },
   "outputs": [
    {
     "data": {
      "text/html": [
       "<div>\n",
       "<style scoped>\n",
       "    .dataframe tbody tr th:only-of-type {\n",
       "        vertical-align: middle;\n",
       "    }\n",
       "\n",
       "    .dataframe tbody tr th {\n",
       "        vertical-align: top;\n",
       "    }\n",
       "\n",
       "    .dataframe thead th {\n",
       "        text-align: right;\n",
       "    }\n",
       "</style>\n",
       "<table border=\"1\" class=\"dataframe\">\n",
       "  <thead>\n",
       "    <tr style=\"text-align: right;\">\n",
       "      <th></th>\n",
       "      <th>VendorID</th>\n",
       "      <th>tpep_pickup_datetime</th>\n",
       "      <th>tpep_dropoff_datetime</th>\n",
       "      <th>passenger_count</th>\n",
       "      <th>trip_distance</th>\n",
       "      <th>RatecodeID</th>\n",
       "      <th>store_and_fwd_flag</th>\n",
       "      <th>PULocationID</th>\n",
       "      <th>DOLocationID</th>\n",
       "      <th>payment_type</th>\n",
       "      <th>fare_amount</th>\n",
       "      <th>extra</th>\n",
       "      <th>mta_tax</th>\n",
       "      <th>tip_amount</th>\n",
       "      <th>tolls_amount</th>\n",
       "      <th>improvement_surcharge</th>\n",
       "      <th>total_amount</th>\n",
       "      <th>congestion_surcharge</th>\n",
       "      <th>airport_fee</th>\n",
       "    </tr>\n",
       "  </thead>\n",
       "  <tbody>\n",
       "    <tr>\n",
       "      <th>0</th>\n",
       "      <td>1</td>\n",
       "      <td>2019-06-01 0:55</td>\n",
       "      <td>2019-06-01 0:56</td>\n",
       "      <td>1</td>\n",
       "      <td>0.0</td>\n",
       "      <td>1</td>\n",
       "      <td>N</td>\n",
       "      <td>145</td>\n",
       "      <td>145</td>\n",
       "      <td>2</td>\n",
       "      <td>3.0</td>\n",
       "      <td>0.5</td>\n",
       "      <td>0.5</td>\n",
       "      <td>0.00</td>\n",
       "      <td>0.0</td>\n",
       "      <td>0.3</td>\n",
       "      <td>4.30</td>\n",
       "      <td>0.0</td>\n",
       "      <td>NaN</td>\n",
       "    </tr>\n",
       "    <tr>\n",
       "      <th>1</th>\n",
       "      <td>1</td>\n",
       "      <td>2019-06-01 0:06</td>\n",
       "      <td>2019-06-01 0:06</td>\n",
       "      <td>1</td>\n",
       "      <td>0.0</td>\n",
       "      <td>1</td>\n",
       "      <td>N</td>\n",
       "      <td>262</td>\n",
       "      <td>263</td>\n",
       "      <td>2</td>\n",
       "      <td>2.5</td>\n",
       "      <td>3.0</td>\n",
       "      <td>0.5</td>\n",
       "      <td>0.00</td>\n",
       "      <td>0.0</td>\n",
       "      <td>0.3</td>\n",
       "      <td>6.30</td>\n",
       "      <td>2.5</td>\n",
       "      <td>NaN</td>\n",
       "    </tr>\n",
       "    <tr>\n",
       "      <th>2</th>\n",
       "      <td>1</td>\n",
       "      <td>2019-06-01 0:17</td>\n",
       "      <td>2019-06-01 0:36</td>\n",
       "      <td>1</td>\n",
       "      <td>4.4</td>\n",
       "      <td>1</td>\n",
       "      <td>N</td>\n",
       "      <td>74</td>\n",
       "      <td>7</td>\n",
       "      <td>2</td>\n",
       "      <td>17.5</td>\n",
       "      <td>0.5</td>\n",
       "      <td>0.5</td>\n",
       "      <td>0.00</td>\n",
       "      <td>0.0</td>\n",
       "      <td>0.3</td>\n",
       "      <td>18.80</td>\n",
       "      <td>0.0</td>\n",
       "      <td>NaN</td>\n",
       "    </tr>\n",
       "    <tr>\n",
       "      <th>3</th>\n",
       "      <td>1</td>\n",
       "      <td>2019-06-01 0:59</td>\n",
       "      <td>2019-06-01 0:59</td>\n",
       "      <td>0</td>\n",
       "      <td>0.8</td>\n",
       "      <td>1</td>\n",
       "      <td>N</td>\n",
       "      <td>145</td>\n",
       "      <td>145</td>\n",
       "      <td>2</td>\n",
       "      <td>2.5</td>\n",
       "      <td>1.0</td>\n",
       "      <td>0.5</td>\n",
       "      <td>0.00</td>\n",
       "      <td>0.0</td>\n",
       "      <td>0.3</td>\n",
       "      <td>4.30</td>\n",
       "      <td>0.0</td>\n",
       "      <td>NaN</td>\n",
       "    </tr>\n",
       "    <tr>\n",
       "      <th>4</th>\n",
       "      <td>1</td>\n",
       "      <td>2019-06-01 0:03</td>\n",
       "      <td>2019-06-01 0:15</td>\n",
       "      <td>1</td>\n",
       "      <td>1.7</td>\n",
       "      <td>1</td>\n",
       "      <td>N</td>\n",
       "      <td>113</td>\n",
       "      <td>148</td>\n",
       "      <td>1</td>\n",
       "      <td>9.5</td>\n",
       "      <td>3.0</td>\n",
       "      <td>0.5</td>\n",
       "      <td>2.65</td>\n",
       "      <td>0.0</td>\n",
       "      <td>0.3</td>\n",
       "      <td>15.95</td>\n",
       "      <td>2.5</td>\n",
       "      <td>NaN</td>\n",
       "    </tr>\n",
       "  </tbody>\n",
       "</table>\n",
       "</div>"
      ],
      "text/plain": [
       "   VendorID tpep_pickup_datetime tpep_dropoff_datetime  passenger_count  \\\n",
       "0         1      2019-06-01 0:55       2019-06-01 0:56                1   \n",
       "1         1      2019-06-01 0:06       2019-06-01 0:06                1   \n",
       "2         1      2019-06-01 0:17       2019-06-01 0:36                1   \n",
       "3         1      2019-06-01 0:59       2019-06-01 0:59                0   \n",
       "4         1      2019-06-01 0:03       2019-06-01 0:15                1   \n",
       "\n",
       "   trip_distance  RatecodeID store_and_fwd_flag  PULocationID  DOLocationID  \\\n",
       "0            0.0           1                  N           145           145   \n",
       "1            0.0           1                  N           262           263   \n",
       "2            4.4           1                  N            74             7   \n",
       "3            0.8           1                  N           145           145   \n",
       "4            1.7           1                  N           113           148   \n",
       "\n",
       "   payment_type  fare_amount  extra  mta_tax  tip_amount  tolls_amount  \\\n",
       "0             2          3.0    0.5      0.5        0.00           0.0   \n",
       "1             2          2.5    3.0      0.5        0.00           0.0   \n",
       "2             2         17.5    0.5      0.5        0.00           0.0   \n",
       "3             2          2.5    1.0      0.5        0.00           0.0   \n",
       "4             1          9.5    3.0      0.5        2.65           0.0   \n",
       "\n",
       "   improvement_surcharge  total_amount  congestion_surcharge  airport_fee  \n",
       "0                    0.3          4.30                   0.0          NaN  \n",
       "1                    0.3          6.30                   2.5          NaN  \n",
       "2                    0.3         18.80                   0.0          NaN  \n",
       "3                    0.3          4.30                   0.0          NaN  \n",
       "4                    0.3         15.95                   2.5          NaN  "
      ]
     },
     "execution_count": 11,
     "metadata": {},
     "output_type": "execute_result"
    }
   ],
   "source": [
    "raw_data.head()"
   ]
  },
  {
   "cell_type": "markdown",
   "metadata": {},
   "source": [
    "Each row in the dataset represents a taxi trip. As shown above, each row has 18 variables. One variable is called `tip_amount` and represents the target variable. Your objective will be to train a model that uses the other variables to predict the value of the `tip_amount` variable. Let's first clean the dataset and retrieve basic statistics about the target variable.\n"
   ]
  },
  {
   "cell_type": "markdown",
   "metadata": {},
   "source": [
    "Some trips report 0 tip. It is assumed that these tips were paid in cash. For this study we drop all these rows:\n"
   ]
  },
  {
   "cell_type": "code",
   "execution_count": 12,
   "metadata": {
    "tags": []
   },
   "outputs": [],
   "source": [
    "raw_data = raw_data[raw_data['tip_amount'] > 0]"
   ]
  },
  {
   "cell_type": "markdown",
   "metadata": {},
   "source": [
    "We also remove some outliers, namely those where the tip was larger than the fare cost:\n"
   ]
  },
  {
   "cell_type": "code",
   "execution_count": 13,
   "metadata": {
    "tags": []
   },
   "outputs": [],
   "source": [
    "raw_data = raw_data[(raw_data['tip_amount'] <= raw_data['fare_amount'])]"
   ]
  },
  {
   "cell_type": "markdown",
   "metadata": {},
   "source": [
    "We remove trips with very large fare cost, i.e.: greater than $200.\n"
   ]
  },
  {
   "cell_type": "code",
   "execution_count": 14,
   "metadata": {
    "tags": []
   },
   "outputs": [],
   "source": [
    "raw_data = raw_data[((raw_data['fare_amount'] >=2) & (raw_data['fare_amount'] < 200))]"
   ]
  },
  {
   "cell_type": "markdown",
   "metadata": {},
   "source": [
    "We drop variable that contains the target variable, namely the `total_amount`:\n"
   ]
  },
  {
   "cell_type": "code",
   "execution_count": 15,
   "metadata": {
    "tags": []
   },
   "outputs": [],
   "source": [
    "data = raw_data.drop(['total_amount'], axis=1)"
   ]
  },
  {
   "cell_type": "markdown",
   "metadata": {},
   "source": [
    "We are dealing with a large dataset, thus we need to make sure we do not run out of memory. We can release the memory occupied by `raw_data` as we do not need it anymore.\n"
   ]
  },
  {
   "cell_type": "code",
   "execution_count": 16,
   "metadata": {
    "tags": []
   },
   "outputs": [
    {
     "data": {
      "text/plain": [
       "0"
      ]
     },
     "execution_count": 16,
     "metadata": {},
     "output_type": "execute_result"
    }
   ],
   "source": [
    "del raw_data\n",
    "gc.collect()"
   ]
  },
  {
   "cell_type": "markdown",
   "metadata": {},
   "source": [
    "Print the number of trips left in the dataset:\n"
   ]
  },
  {
   "cell_type": "code",
   "execution_count": 17,
   "metadata": {
    "tags": []
   },
   "outputs": [
    {
     "name": "stdout",
     "output_type": "stream",
     "text": [
      "There are 682522 observations in the dataset.\n",
      "There are 18 variables in the dataset.\n"
     ]
    }
   ],
   "source": [
    "print(\"There are \" + str(len(data)) + \" observations in the dataset.\")\n",
    "print(\"There are \" + str(len(data.columns)) + \" variables in the dataset.\")"
   ]
  },
  {
   "cell_type": "code",
   "execution_count": 18,
   "metadata": {
    "tags": []
   },
   "outputs": [
    {
     "data": {
      "image/png": "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",
      "text/plain": [
       "<Figure size 640x480 with 1 Axes>"
      ]
     },
     "metadata": {},
     "output_type": "display_data"
    }
   ],
   "source": [
    "plt.hist(data.tip_amount.values, 16, histtype='bar', facecolor='g')\n",
    "plt.show()"
   ]
  },
  {
   "cell_type": "code",
   "execution_count": 19,
   "metadata": {
    "tags": []
   },
   "outputs": [
    {
     "name": "stdout",
     "output_type": "stream",
     "text": [
      "Minimum amount value is  0.01\n",
      "Maximum amount value is  91.0\n",
      "90% of the trips have a tip amount less or equal than  5.88\n"
     ]
    }
   ],
   "source": [
    "print(\"Minimum amount value is \", np.min(data.tip_amount.values))\n",
    "print(\"Maximum amount value is \", np.max(data.tip_amount.values))\n",
    "print(\"90% of the trips have a tip amount less or equal than \", np.percentile(data.tip_amount.values, 90))"
   ]
  },
  {
   "cell_type": "code",
   "execution_count": 20,
   "metadata": {
    "tags": []
   },
   "outputs": [
    {
     "data": {
      "text/html": [
       "<div>\n",
       "<style scoped>\n",
       "    .dataframe tbody tr th:only-of-type {\n",
       "        vertical-align: middle;\n",
       "    }\n",
       "\n",
       "    .dataframe tbody tr th {\n",
       "        vertical-align: top;\n",
       "    }\n",
       "\n",
       "    .dataframe thead th {\n",
       "        text-align: right;\n",
       "    }\n",
       "</style>\n",
       "<table border=\"1\" class=\"dataframe\">\n",
       "  <thead>\n",
       "    <tr style=\"text-align: right;\">\n",
       "      <th></th>\n",
       "      <th>VendorID</th>\n",
       "      <th>tpep_pickup_datetime</th>\n",
       "      <th>tpep_dropoff_datetime</th>\n",
       "      <th>passenger_count</th>\n",
       "      <th>trip_distance</th>\n",
       "      <th>RatecodeID</th>\n",
       "      <th>store_and_fwd_flag</th>\n",
       "      <th>PULocationID</th>\n",
       "      <th>DOLocationID</th>\n",
       "      <th>payment_type</th>\n",
       "      <th>fare_amount</th>\n",
       "      <th>extra</th>\n",
       "      <th>mta_tax</th>\n",
       "      <th>tip_amount</th>\n",
       "      <th>tolls_amount</th>\n",
       "      <th>improvement_surcharge</th>\n",
       "      <th>congestion_surcharge</th>\n",
       "      <th>airport_fee</th>\n",
       "    </tr>\n",
       "  </thead>\n",
       "  <tbody>\n",
       "    <tr>\n",
       "      <th>4</th>\n",
       "      <td>1</td>\n",
       "      <td>2019-06-01 0:03</td>\n",
       "      <td>2019-06-01 0:15</td>\n",
       "      <td>1</td>\n",
       "      <td>1.70</td>\n",
       "      <td>1</td>\n",
       "      <td>N</td>\n",
       "      <td>113</td>\n",
       "      <td>148</td>\n",
       "      <td>1</td>\n",
       "      <td>9.5</td>\n",
       "      <td>3.0</td>\n",
       "      <td>0.5</td>\n",
       "      <td>2.65</td>\n",
       "      <td>0.0</td>\n",
       "      <td>0.3</td>\n",
       "      <td>2.5</td>\n",
       "      <td>NaN</td>\n",
       "    </tr>\n",
       "    <tr>\n",
       "      <th>5</th>\n",
       "      <td>1</td>\n",
       "      <td>2019-06-01 0:28</td>\n",
       "      <td>2019-06-01 0:39</td>\n",
       "      <td>2</td>\n",
       "      <td>1.60</td>\n",
       "      <td>1</td>\n",
       "      <td>N</td>\n",
       "      <td>79</td>\n",
       "      <td>125</td>\n",
       "      <td>1</td>\n",
       "      <td>9.5</td>\n",
       "      <td>3.0</td>\n",
       "      <td>0.5</td>\n",
       "      <td>1.00</td>\n",
       "      <td>0.0</td>\n",
       "      <td>0.3</td>\n",
       "      <td>2.5</td>\n",
       "      <td>NaN</td>\n",
       "    </tr>\n",
       "    <tr>\n",
       "      <th>7</th>\n",
       "      <td>1</td>\n",
       "      <td>2019-06-01 0:54</td>\n",
       "      <td>2019-06-01 1:02</td>\n",
       "      <td>2</td>\n",
       "      <td>1.20</td>\n",
       "      <td>1</td>\n",
       "      <td>N</td>\n",
       "      <td>79</td>\n",
       "      <td>249</td>\n",
       "      <td>1</td>\n",
       "      <td>7.5</td>\n",
       "      <td>3.0</td>\n",
       "      <td>0.5</td>\n",
       "      <td>1.00</td>\n",
       "      <td>0.0</td>\n",
       "      <td>0.3</td>\n",
       "      <td>2.5</td>\n",
       "      <td>NaN</td>\n",
       "    </tr>\n",
       "    <tr>\n",
       "      <th>9</th>\n",
       "      <td>1</td>\n",
       "      <td>2019-06-01 0:29</td>\n",
       "      <td>2019-06-01 1:03</td>\n",
       "      <td>1</td>\n",
       "      <td>8.60</td>\n",
       "      <td>1</td>\n",
       "      <td>N</td>\n",
       "      <td>186</td>\n",
       "      <td>243</td>\n",
       "      <td>1</td>\n",
       "      <td>31.5</td>\n",
       "      <td>3.0</td>\n",
       "      <td>0.5</td>\n",
       "      <td>7.05</td>\n",
       "      <td>0.0</td>\n",
       "      <td>0.3</td>\n",
       "      <td>2.5</td>\n",
       "      <td>NaN</td>\n",
       "    </tr>\n",
       "    <tr>\n",
       "      <th>10</th>\n",
       "      <td>2</td>\n",
       "      <td>2019-06-01 0:01</td>\n",
       "      <td>2019-06-01 0:16</td>\n",
       "      <td>1</td>\n",
       "      <td>1.74</td>\n",
       "      <td>1</td>\n",
       "      <td>N</td>\n",
       "      <td>107</td>\n",
       "      <td>148</td>\n",
       "      <td>1</td>\n",
       "      <td>11.0</td>\n",
       "      <td>0.5</td>\n",
       "      <td>0.5</td>\n",
       "      <td>2.96</td>\n",
       "      <td>0.0</td>\n",
       "      <td>0.3</td>\n",
       "      <td>2.5</td>\n",
       "      <td>NaN</td>\n",
       "    </tr>\n",
       "  </tbody>\n",
       "</table>\n",
       "</div>"
      ],
      "text/plain": [
       "    VendorID tpep_pickup_datetime tpep_dropoff_datetime  passenger_count  \\\n",
       "4          1      2019-06-01 0:03       2019-06-01 0:15                1   \n",
       "5          1      2019-06-01 0:28       2019-06-01 0:39                2   \n",
       "7          1      2019-06-01 0:54       2019-06-01 1:02                2   \n",
       "9          1      2019-06-01 0:29       2019-06-01 1:03                1   \n",
       "10         2      2019-06-01 0:01       2019-06-01 0:16                1   \n",
       "\n",
       "    trip_distance  RatecodeID store_and_fwd_flag  PULocationID  DOLocationID  \\\n",
       "4            1.70           1                  N           113           148   \n",
       "5            1.60           1                  N            79           125   \n",
       "7            1.20           1                  N            79           249   \n",
       "9            8.60           1                  N           186           243   \n",
       "10           1.74           1                  N           107           148   \n",
       "\n",
       "    payment_type  fare_amount  extra  mta_tax  tip_amount  tolls_amount  \\\n",
       "4              1          9.5    3.0      0.5        2.65           0.0   \n",
       "5              1          9.5    3.0      0.5        1.00           0.0   \n",
       "7              1          7.5    3.0      0.5        1.00           0.0   \n",
       "9              1         31.5    3.0      0.5        7.05           0.0   \n",
       "10             1         11.0    0.5      0.5        2.96           0.0   \n",
       "\n",
       "    improvement_surcharge  congestion_surcharge  airport_fee  \n",
       "4                     0.3                   2.5          NaN  \n",
       "5                     0.3                   2.5          NaN  \n",
       "7                     0.3                   2.5          NaN  \n",
       "9                     0.3                   2.5          NaN  \n",
       "10                    0.3                   2.5          NaN  "
      ]
     },
     "execution_count": 20,
     "metadata": {},
     "output_type": "execute_result"
    }
   ],
   "source": [
    "# display first rows in the dataset\n",
    "data.head()"
   ]
  },
  {
   "cell_type": "markdown",
   "metadata": {},
   "source": [
    "By looking at the dataset in more detail, we see that it contains information such as pick-up and drop-off dates/times, pick-up and drop-off locations, payment types, driver-reported passenger counts etc. \n",
    "\n",
    "Before actually training a ML model, we will need to preprocess the data. We need to transform the data in a format that will be correctly handled by the models. For instance, we need to **encode the categorical features**.\n"
   ]
  },
  {
   "cell_type": "markdown",
   "metadata": {},
   "source": [
    "## Data Preprocessing\n",
    "\n",
    "In this subsection you will prepare the data for training. \n"
   ]
  },
  {
   "cell_type": "markdown",
   "metadata": {},
   "source": [
    "Extract useful features such as pickup and dropoff hour, day of week, and trip duration in minutes.\n"
   ]
  },
  {
   "cell_type": "code",
   "execution_count": 21,
   "metadata": {
    "tags": []
   },
   "outputs": [],
   "source": [
    "data['tpep_dropoff_datetime'] = pd.to_datetime(data['tpep_dropoff_datetime'])\n",
    "data['tpep_pickup_datetime'] = pd.to_datetime(data['tpep_pickup_datetime'])\n",
    "\n",
    "# extract pickup and dropoff hour\n",
    "data['pickup_hour'] = data['tpep_pickup_datetime'].dt.hour\n",
    "data['dropoff_hour'] = data['tpep_dropoff_datetime'].dt.hour\n",
    "\n",
    "# extract pickup and dropoff day of week\n",
    "data['pickup_day'] = data['tpep_pickup_datetime'].dt.weekday\n",
    "data['dropoff_day'] = data['tpep_dropoff_datetime'].dt.weekday\n",
    "\n",
    "# compute trip time in minutes\n",
    "data['trip_time'] = (data['tpep_dropoff_datetime'] - data['tpep_pickup_datetime']).dt.total_seconds() / 60\n"
   ]
  },
  {
   "cell_type": "markdown",
   "metadata": {},
   "source": [
    "Drop the pickup and dropoff datetimes columns as well as the airport_fee column that contains all NaNs :\n"
   ]
  },
  {
   "cell_type": "code",
   "execution_count": 22,
   "metadata": {
    "tags": []
   },
   "outputs": [],
   "source": [
    "data = data.drop(['tpep_pickup_datetime', 'tpep_dropoff_datetime','airport_fee'], axis=1)"
   ]
  },
  {
   "cell_type": "markdown",
   "metadata": {},
   "source": [
    "Some features are categorical, we need to encode them. To encode them we use one-hot encoding from the Pandas package.\n"
   ]
  },
  {
   "cell_type": "code",
   "execution_count": 23,
   "metadata": {
    "tags": []
   },
   "outputs": [],
   "source": [
    "get_dummy_col = [\"VendorID\",\"RatecodeID\",\"store_and_fwd_flag\",\"PULocationID\", \"DOLocationID\",\"payment_type\", \"pickup_hour\", \"dropoff_hour\", \"pickup_day\", \"dropoff_day\"]\n",
    "proc_data = pd.get_dummies(data, columns = get_dummy_col)"
   ]
  },
  {
   "cell_type": "markdown",
   "metadata": {},
   "source": [
    "Since we will be working with hundreds of one-hot encoded columns or dummy variables, to make sure we do not run into out of memory issue, we release memory occupied by `data` as we do not need it anymore.\n"
   ]
  },
  {
   "cell_type": "code",
   "execution_count": 24,
   "metadata": {
    "tags": []
   },
   "outputs": [
    {
     "data": {
      "text/plain": [
       "0"
      ]
     },
     "execution_count": 24,
     "metadata": {},
     "output_type": "execute_result"
    }
   ],
   "source": [
    "del data\n",
    "gc.collect()"
   ]
  },
  {
   "cell_type": "markdown",
   "metadata": {},
   "source": [
    "Let's examine the data types of `proc_data` using `proc_data.info()`.\n"
   ]
  },
  {
   "cell_type": "code",
   "execution_count": 25,
   "metadata": {},
   "outputs": [
    {
     "name": "stdout",
     "output_type": "stream",
     "text": [
      "<class 'pandas.core.frame.DataFrame'>\n",
      "Index: 682522 entries, 4 to 999997\n",
      "Columns: 562 entries, passenger_count to dropoff_day_6\n",
      "dtypes: bool(552), float64(9), int64(1)\n",
      "memory usage: 416.6 MB\n"
     ]
    }
   ],
   "source": [
    "proc_data.info()"
   ]
  },
  {
   "cell_type": "markdown",
   "metadata": {},
   "source": [
    "We can further optimize the memory usage by converting **np.float64** values to **np.float32**, and **np.int64** values to **np.int8**. \n",
    "\n",
    "<p style=\"color:blue;\">Note: The CSV file size doubles if the data type is converted to numpy.float64, which is the default type of numpy.array, compared to numpy.float32.</p>\n"
   ]
  },
  {
   "cell_type": "code",
   "execution_count": 26,
   "metadata": {},
   "outputs": [
    {
     "name": "stdout",
     "output_type": "stream",
     "text": [
      "<class 'pandas.core.frame.DataFrame'>\n",
      "Index: 682522 entries, 4 to 999997\n",
      "Columns: 562 entries, passenger_count to dropoff_day_6\n",
      "dtypes: bool(552), float32(9), int64(1)\n",
      "memory usage: 393.1 MB\n"
     ]
    }
   ],
   "source": [
    "# use helper function \"memory_optimize\"\n",
    "proc_data = memory_optimize(proc_data)\n",
    "\n",
    "# data types are converted and the memory usage reduced\n",
    "proc_data.info()"
   ]
  },
  {
   "cell_type": "markdown",
   "metadata": {},
   "source": [
    "Extract the labels from the dataframe:\n"
   ]
  },
  {
   "cell_type": "code",
   "execution_count": null,
   "metadata": {},
   "outputs": [],
   "source": [
    "y = proc_data[['tip_amount']].values\n",
    "\n",
    "# drop the target variable from the feature matrix\n",
    "proc_data = proc_data.drop(['tip_amount'], axis=1)"
   ]
  },
  {
   "cell_type": "markdown",
   "metadata": {},
   "source": [
    "Now we get the feature matrix used for training in the format of numpy arrays and the normalize the feature matrix. We assign the feature matrix to `X` and release the memory occupied by `proc_data` before proceeding.\n"
   ]
  },
  {
   "cell_type": "code",
   "execution_count": 28,
   "metadata": {},
   "outputs": [
    {
     "data": {
      "text/plain": [
       "0"
      ]
     },
     "execution_count": 28,
     "metadata": {},
     "output_type": "execute_result"
    }
   ],
   "source": [
    "X = proc_data.values\n",
    "\n",
    "del proc_data\n",
    "gc.collect()"
   ]
  },
  {
   "cell_type": "code",
   "execution_count": 29,
   "metadata": {},
   "outputs": [
    {
     "name": "stdout",
     "output_type": "stream",
     "text": [
      "X.shape= (682522, 561) y.shape= (682522, 1)\n"
     ]
    }
   ],
   "source": [
    "# normalize the feature matrix\n",
    "normalizer = Normalizer(norm='l1').fit(X)\n",
    "X = normalizer.transform(X)\n",
    "\n",
    "# print the shape of the features matrix and the labels vector\n",
    "print('X.shape=', X.shape, 'y.shape=', y.shape)"
   ]
  },
  {
   "cell_type": "markdown",
   "metadata": {},
   "source": [
    "## Dataset Train/Test Split\n"
   ]
  },
  {
   "cell_type": "markdown",
   "metadata": {},
   "source": [
    "Now that the dataset is ready for building the classification models, you need to first divide the pre-processed dataset into a subset to be used for training the model (the **train set**) and a subset to be used for evaluating the quality of the model (the **test set**).\n"
   ]
  },
  {
   "cell_type": "code",
   "execution_count": 30,
   "metadata": {},
   "outputs": [
    {
     "name": "stdout",
     "output_type": "stream",
     "text": [
      "X_train.shape= (477765, 561) Y_train.shape= (477765, 1)\n",
      "X_test.shape= (204757, 561) Y_test.shape= (204757, 1)\n"
     ]
    }
   ],
   "source": [
    "X_train, X_test, y_train, y_test = train_test_split(X, y, test_size=0.3, random_state=42)\n",
    "print('X_train.shape=', X_train.shape, 'Y_train.shape=', y_train.shape)\n",
    "print('X_test.shape=', X_test.shape, 'Y_test.shape=', y_test.shape)"
   ]
  },
  {
   "cell_type": "code",
   "execution_count": 31,
   "metadata": {},
   "outputs": [
    {
     "data": {
      "text/plain": [
       "0"
      ]
     },
     "execution_count": 31,
     "metadata": {},
     "output_type": "execute_result"
    }
   ],
   "source": [
    "del X, y\n",
    "gc.collect()"
   ]
  },
  {
   "cell_type": "markdown",
   "metadata": {},
   "source": [
    "## Build a Decision Tree Regressor model with Scikit-Learn\n"
   ]
  },
  {
   "cell_type": "markdown",
   "metadata": {},
   "source": [
    "Import the Decision Tree Regression Model from scikit-learn.\n"
   ]
  },
  {
   "cell_type": "code",
   "execution_count": 32,
   "metadata": {},
   "outputs": [],
   "source": [
    "from sklearn.tree import DecisionTreeRegressor"
   ]
  },
  {
   "cell_type": "markdown",
   "metadata": {},
   "source": [
    "For reproducible output across multiple function calls, set random_state to an integer value.\n"
   ]
  },
  {
   "cell_type": "code",
   "execution_count": 33,
   "metadata": {},
   "outputs": [],
   "source": [
    "sklearn_dt = DecisionTreeRegressor(max_depth=8, random_state=35)"
   ]
  },
  {
   "cell_type": "markdown",
   "metadata": {},
   "source": [
    "Train a Decision Tree Regressor using scikit-learn and use the `time` function to record the training time.\n"
   ]
  },
  {
   "cell_type": "code",
   "execution_count": 34,
   "metadata": {},
   "outputs": [
    {
     "name": "stdout",
     "output_type": "stream",
     "text": [
      "[Scikit-Learn] Training time (s):  94.68766\n"
     ]
    }
   ],
   "source": [
    "t0 = time.time()\n",
    "sklearn_dt.fit(X_train, y_train)\n",
    "sklearn_time = time.time()-t0\n",
    "print(\"[Scikit-Learn] Training time (s):  {0:.5f}\".format(sklearn_time))"
   ]
  },
  {
   "cell_type": "markdown",
   "metadata": {},
   "source": [
    "## Build a Decision Tree Regressor model with Snap ML\n"
   ]
  },
  {
   "cell_type": "markdown",
   "metadata": {},
   "source": [
    "Import the Decision Tree Regressor Model from **Snap ML**.\n"
   ]
  },
  {
   "cell_type": "code",
   "execution_count": 35,
   "metadata": {},
   "outputs": [],
   "source": [
    "from snapml import DecisionTreeRegressor"
   ]
  },
  {
   "cell_type": "markdown",
   "metadata": {},
   "source": [
    "In contrast to sklearn's Decision Tree, Snap ML offers multi-threaded CPU/GPU training. To use the GPU, one needs to set the parameter `use_gpu = True`:\n",
    "\n",
    "`snapml_dt = DecisionTreeRegressor(max_depth=4, random_state=45, use_gpu=True)`\n",
    "\n",
    "To set the number of CPU threads used at training time, one needs to set the `n_jobs` parameter. For reproducible output across multiple function calls, set `random_state` to an integer value.\n"
   ]
  },
  {
   "cell_type": "code",
   "execution_count": 36,
   "metadata": {},
   "outputs": [],
   "source": [
    "snapml_dt = DecisionTreeRegressor(max_depth=8, random_state=45, n_jobs=2)"
   ]
  },
  {
   "cell_type": "markdown",
   "metadata": {},
   "source": [
    "Train a Decision Tree Regressor model using Snap ML.\n"
   ]
  },
  {
   "cell_type": "code",
   "execution_count": 37,
   "metadata": {},
   "outputs": [
    {
     "name": "stdout",
     "output_type": "stream",
     "text": [
      "[Snap ML] Training time (s):  10.02899\n"
     ]
    }
   ],
   "source": [
    "t0 = time.time()\n",
    "snapml_dt.fit(X_train, y_train)\n",
    "snapml_time = time.time()-t0\n",
    "print(\"[Snap ML] Training time (s):  {0:.5f}\".format(snapml_time))"
   ]
  },
  {
   "cell_type": "markdown",
   "metadata": {},
   "source": [
    "## Evaluate the Scikit-Learn and Snap ML Decision Tree Regressor Models\n"
   ]
  },
  {
   "cell_type": "markdown",
   "metadata": {},
   "source": [
    "Let's examine the Snap ML vs Scikit-Learn training speedup:\n"
   ]
  },
  {
   "cell_type": "code",
   "execution_count": 38,
   "metadata": {},
   "outputs": [
    {
     "name": "stdout",
     "output_type": "stream",
     "text": [
      "[Decision Tree Regressor] Snap ML vs. Scikit-Learn speedup : 9.44x \n"
     ]
    }
   ],
   "source": [
    "training_speedup = sklearn_time/snapml_time\n",
    "print('[Decision Tree Regressor] Snap ML vs. Scikit-Learn speedup : {0:.2f}x '.format(training_speedup))"
   ]
  },
  {
   "cell_type": "markdown",
   "metadata": {},
   "source": [
    "We can run inference using the sklearn model:\n"
   ]
  },
  {
   "cell_type": "code",
   "execution_count": 39,
   "metadata": {},
   "outputs": [],
   "source": [
    "sklearn_pred = sklearn_dt.predict(X_test)"
   ]
  },
  {
   "cell_type": "markdown",
   "metadata": {},
   "source": [
    "Evaluate mean squared error on the test dataset:\n"
   ]
  },
  {
   "cell_type": "code",
   "execution_count": 40,
   "metadata": {},
   "outputs": [
    {
     "name": "stdout",
     "output_type": "stream",
     "text": [
      "[Scikit-Learn] MSE score : 1.741\n"
     ]
    }
   ],
   "source": [
    "sklearn_mse = mean_squared_error(y_test, sklearn_pred)\n",
    "print('[Scikit-Learn] MSE score : {0:.3f}'.format(sklearn_mse))"
   ]
  },
  {
   "cell_type": "markdown",
   "metadata": {},
   "source": [
    "Run inference using the Snap ML model:\n"
   ]
  },
  {
   "cell_type": "code",
   "execution_count": 41,
   "metadata": {},
   "outputs": [],
   "source": [
    "snapml_pred = snapml_dt.predict(X_test)"
   ]
  },
  {
   "cell_type": "markdown",
   "metadata": {},
   "source": [
    "Evaluate mean squared error on the test dataset:\n"
   ]
  },
  {
   "cell_type": "code",
   "execution_count": 42,
   "metadata": {},
   "outputs": [
    {
     "name": "stdout",
     "output_type": "stream",
     "text": [
      "[Snap ML] MSE score : 1.667\n"
     ]
    }
   ],
   "source": [
    "snapml_mse = mean_squared_error(y_test, snapml_pred)\n",
    "print('[Snap ML] MSE score : {0:.3f}'.format(snapml_mse))"
   ]
  },
  {
   "cell_type": "markdown",
   "metadata": {},
   "source": [
    "As shown above both decision tree models provide the similar score on the test dataset. However Snap ML runs the training routine faster than Scikit-Learn. \n",
    "\n",
    "This is one of the advantages of using Snap ML: **acceleration of training of classical machine learning models, such as linear and tree-based models**. For more Snap ML examples, please visit [this GitHub repository](https://ibm.biz/BdPfxB?utm_medium=Exinfluencer&utm_source=Exinfluencer&utm_content=000026UJ&utm_term=10006555&utm_id=NA-SkillsNetwork-Channel-SkillsNetworkGuidedProjectsIBMGPXX0AXIEN90-2022-01-01). Moreover, as shown above, not only is Snap ML seemlessly accelerating scikit-learn applications, but the library's Python API is also compatible with scikit-learn metrics and data preprocessors.\n"
   ]
  },
  {
   "cell_type": "markdown",
   "metadata": {},
   "source": [
    "## Authors\n"
   ]
  },
  {
   "cell_type": "markdown",
   "metadata": {},
   "source": [
    "[Roxanne Li](https://www.linkedin.com/in/roxanne-li/?utm_medium=Exinfluencer&utm_source=Exinfluencer&utm_content=000026UJ&utm_term=10006555&utm_id=NA-SkillsNetwork-Channel-SkillsNetworkCoursesIBMDeveloperSkillsNetworkML311Coursera35714171-2022-01-01)\n",
    "\n",
    "Andreea Anghel\n"
   ]
  },
  {
   "cell_type": "markdown",
   "metadata": {},
   "source": [
    "### Other Contributors\n"
   ]
  },
  {
   "cell_type": "markdown",
   "metadata": {},
   "source": [
    "[Joseph Santarcangelo](https://www.linkedin.com/in/joseph-s-50398b136/?utm_medium=Exinfluencer&utm_source=Exinfluencer&utm_content=000026UJ&utm_term=10006555&utm_id=NA-SkillsNetwork-Channel-SkillsNetworkCoursesIBMDeveloperSkillsNetworkML311Coursera35714171-2022-01-01)\n",
    "\n",
    "Sangeeth Keeriyadath \n"
   ]
  },
  {
   "cell_type": "markdown",
   "metadata": {},
   "source": [
    "## Change Log\n"
   ]
  },
  {
   "cell_type": "markdown",
   "metadata": {},
   "source": [
    "|Date (YYYY-MM-DD)|Version|Changed By|Change Description|\n",
    "|-|-|-|-|\n",
    "|2022-09-29|0.1|Roxanne Li|Created Guided Project|\n"
   ]
  },
  {
   "cell_type": "markdown",
   "metadata": {},
   "source": [
    "Copyright © 2022 IBM Corporation. All rights reserved.\n"
   ]
  }
 ],
 "metadata": {
  "kernelspec": {
   "display_name": "Python 3",
   "language": "python",
   "name": "python3"
  },
  "language_info": {
   "codemirror_mode": {
    "name": "ipython",
    "version": 3
   },
   "file_extension": ".py",
   "mimetype": "text/x-python",
   "name": "python",
   "nbconvert_exporter": "python",
   "pygments_lexer": "ipython3",
 old-origin
   "version": "3.8.19"
=======
   "version": "3.9.19"
 main
  }
 },
 "nbformat": 4,
 "nbformat_minor": 4
}
